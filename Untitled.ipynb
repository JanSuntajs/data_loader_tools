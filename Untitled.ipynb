{
 "cells": [
  {
   "cell_type": "code",
   "execution_count": 1,
   "metadata": {},
   "outputs": [],
   "source": [
    "from data_loader import *\n"
   ]
  },
  {
   "cell_type": "code",
   "execution_count": 2,
   "metadata": {},
   "outputs": [],
   "source": [
    "import data_loader.defaults"
   ]
  },
  {
   "cell_type": "code",
   "execution_count": 3,
   "metadata": {},
   "outputs": [],
   "source": [
    "from data_loader.defaults.mbl_fortran import mbl_misc_defs"
   ]
  },
  {
   "cell_type": "code",
   "execution_count": 4,
   "metadata": {},
   "outputs": [],
   "source": [
    "from data_loader.defaults.mbl_fortran import mbl_loader"
   ]
  },
  {
   "cell_type": "code",
   "execution_count": 5,
   "metadata": {},
   "outputs": [],
   "source": [
    "storage = '/Volumes/jan-scratch'\n",
    "data_path = 'MBLexact/Results/no_doping_XXX_check_ergodicity_snn_spin_dis_new_ordering/Data/'\n",
    "modules = ['hcb_hop_nn_ex', 'hcb_hop_snn_ex', 'hcb_rd_field_ex']\n",
    "mbl_data = mbl_loader.Mbl_Loader(storage, data_path, modules )"
   ]
  },
  {
   "cell_type": "code",
   "execution_count": 6,
   "metadata": {},
   "outputs": [],
   "source": [
    "\n",
    "syspar = {'size': 12, 'dim': 1, 'base': 'F', 'ne': 6, 'nu': 0}\n",
    "data_path = mbl_data.load('spectral_stats', syspar, {})"
   ]
  },
  {
   "cell_type": "code",
   "execution_count": 7,
   "metadata": {},
   "outputs": [],
   "source": [
    "import os\n",
    "cwd = os.getcwd()\n",
    "os.chdir(data_path)\n",
    "os.chdir(cwd)"
   ]
  },
  {
   "cell_type": "code",
   "execution_count": 8,
   "metadata": {},
   "outputs": [
    {
     "data": {
      "text/plain": [
       "'/Volumes/jan-scratch/MBLexact/Results/no_doping_XXX_check_ergodicity_snn_spin_dis_new_ordering/Data/'"
      ]
     },
     "execution_count": 8,
     "metadata": {},
     "output_type": "execute_result"
    }
   ],
   "source": [
    "mbl_data.results_root_folder"
   ]
  },
  {
   "cell_type": "code",
   "execution_count": 9,
   "metadata": {},
   "outputs": [],
   "source": [
    "data_path, check_exist = mbl_data.get_results_folder()"
   ]
  },
  {
   "cell_type": "code",
   "execution_count": 10,
   "metadata": {},
   "outputs": [],
   "source": [
    "import os\n",
    "cwd = os.getcwd()\n",
    "os.chdir(data_path)\n",
    "os.chdir(cwd)"
   ]
  },
  {
   "cell_type": "code",
   "execution_count": 11,
   "metadata": {},
   "outputs": [],
   "source": [
    "modfile = 'neki_Mod_-1.00000d0_ih_2_+1.10000d0_dg_2_Mod_+1.50000d0_dg_4_Mod_-1.00000d0_ih_2_+1.10000d0_dg_1_tof_0000.npy'"
   ]
  },
  {
   "cell_type": "code",
   "execution_count": 14,
   "metadata": {},
   "outputs": [
    {
     "data": {
      "text/plain": [
       "{'V2': 1.1, 'T2': 1.0, 'W_hcb': 1.5, 'T': 1.0, 'V1': 1.1}"
      ]
     },
     "execution_count": 14,
     "metadata": {},
     "output_type": "execute_result"
    }
   ],
   "source": [
    "mbl_data.get_modpar_values(modfile)"
   ]
  },
  {
   "cell_type": "code",
   "execution_count": 10,
   "metadata": {},
   "outputs": [],
   "source": [
    "modpar = mbl_data.default_modpars"
   ]
  },
  {
   "cell_type": "code",
   "execution_count": 11,
   "metadata": {},
   "outputs": [
    {
     "name": "stdout",
     "output_type": "stream",
     "text": [
      "+0.00000d0_ih_2__+0.00000d0_dg_1_\n",
      "+0.00000d0_ih_2__+0.00000d0_dg_2_\n",
      "+0.00000d0_dg_4_\n"
     ]
    },
    {
     "data": {
      "text/plain": [
       "['+0.00000d0_ih_2__+0.00000d0_dg_1_',\n",
       " '+0.00000d0_ih_2__+0.00000d0_dg_2_',\n",
       " '+0.00000d0_dg_4_']"
      ]
     },
     "execution_count": 11,
     "metadata": {},
     "output_type": "execute_result"
    }
   ],
   "source": [
    "mbl_data.format_module_string(modpar)"
   ]
  },
  {
   "cell_type": "code",
   "execution_count": null,
   "metadata": {},
   "outputs": [],
   "source": []
  }
 ],
 "metadata": {
  "kernelspec": {
   "display_name": "Python 3",
   "language": "python",
   "name": "python3"
  },
  "language_info": {
   "codemirror_mode": {
    "name": "ipython",
    "version": 3
   },
   "file_extension": ".py",
   "mimetype": "text/x-python",
   "name": "python",
   "nbconvert_exporter": "python",
   "pygments_lexer": "ipython3",
   "version": "3.7.1"
  }
 },
 "nbformat": 4,
 "nbformat_minor": 2
}
