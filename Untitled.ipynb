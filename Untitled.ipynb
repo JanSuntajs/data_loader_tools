{
 "cells": [
  {
   "cell_type": "code",
   "execution_count": 1,
   "metadata": {},
   "outputs": [],
   "source": [
    "from data_loader import *"
   ]
  },
  {
   "cell_type": "code",
   "execution_count": 2,
   "metadata": {},
   "outputs": [],
   "source": [
    "import data_loader.defaults"
   ]
  },
  {
   "cell_type": "code",
   "execution_count": 4,
   "metadata": {},
   "outputs": [],
   "source": [
    "from data_loader.defaults.mbl_fortran import mbl_misc_defs"
   ]
  },
  {
   "cell_type": "code",
   "execution_count": 6,
   "metadata": {},
   "outputs": [
    {
     "data": {
      "text/plain": [
       "{'hops': ['T', 'J'],\n",
       " 'flip': ['JOF', 'W'],\n",
       " 'hole': ['H'],\n",
       " 'hole_sym': ['HSYM'],\n",
       " 'spin_sym': ['WSYM'],\n",
       " 'h_stagg': ['H_STAGG'],\n",
       " 'hcb_nn': ['T', 'V1'],\n",
       " 'hcb_snn': ['T2', 'V2'],\n",
       " 'hcb_dis': ['W_hcb']}"
      ]
     },
     "execution_count": 6,
     "metadata": {},
     "output_type": "execute_result"
    }
   ],
   "source": [
    "mbl_misc_defs.val_cases"
   ]
  },
  {
   "cell_type": "code",
   "execution_count": 5,
   "metadata": {},
   "outputs": [
    {
     "ename": "ModuleNotFoundError",
     "evalue": "No module named 'mfort'",
     "output_type": "error",
     "traceback": [
      "\u001b[0;31m---------------------------------------------------------------------------\u001b[0m",
      "\u001b[0;31mModuleNotFoundError\u001b[0m                       Traceback (most recent call last)",
      "\u001b[0;32m<ipython-input-5-04fa7ad3ec38>\u001b[0m in \u001b[0;36m<module>\u001b[0;34m()\u001b[0m\n\u001b[0;32m----> 1\u001b[0;31m \u001b[0;32mfrom\u001b[0m \u001b[0mmfort\u001b[0m \u001b[0;32mimport\u001b[0m \u001b[0mmbl_misc_defs\u001b[0m\u001b[0;34m\u001b[0m\u001b[0;34m\u001b[0m\u001b[0m\n\u001b[0m",
      "\u001b[0;31mModuleNotFoundError\u001b[0m: No module named 'mfort'"
     ]
    }
   ],
   "source": [
    "from mfort import mbl_misc_defs"
   ]
  },
  {
   "cell_type": "code",
   "execution_count": 7,
   "metadata": {},
   "outputs": [
    {
     "ename": "SyntaxError",
     "evalue": "invalid syntax (<ipython-input-7-e9a6d36f612a>, line 1)",
     "output_type": "error",
     "traceback": [
      "\u001b[0;36m  File \u001b[0;32m\"<ipython-input-7-e9a6d36f612a>\"\u001b[0;36m, line \u001b[0;32m1\u001b[0m\n\u001b[0;31m    echo PYTHONPATH\u001b[0m\n\u001b[0m                  ^\u001b[0m\n\u001b[0;31mSyntaxError\u001b[0m\u001b[0;31m:\u001b[0m invalid syntax\n"
     ]
    }
   ],
   "source": []
  },
  {
   "cell_type": "code",
   "execution_count": 6,
   "metadata": {},
   "outputs": [],
   "source": [
    "ex_string =     \"\"\"mbl_hop_ex           kin      S_z\n",
    "    Parameters\n",
    "\n",
    "    T= set_t ih 2\n",
    "    J1= set_j1 dg 0\n",
    "    \"\"\""
   ]
  },
  {
   "cell_type": "code",
   "execution_count": 10,
   "metadata": {},
   "outputs": [
    {
     "data": {
      "text/plain": [
       "['mbl_hop_ex           kin      S_z',\n",
       " '    Parameters',\n",
       " '',\n",
       " '    T= set_t ih 2',\n",
       " '    J1= set_j1 dg 0',\n",
       " '    ']"
      ]
     },
     "execution_count": 10,
     "metadata": {},
     "output_type": "execute_result"
    }
   ],
   "source": [
    "lines = ex_string.split('\\n'); lines"
   ]
  },
  {
   "cell_type": "code",
   "execution_count": 19,
   "metadata": {},
   "outputs": [
    {
     "name": "stdout",
     "output_type": "stream",
     "text": [
      "    T\n",
      "_ih_2_\n",
      "    J1\n",
      "_dg_0_\n"
     ]
    }
   ],
   "source": [
    "for line in lines:\n",
    "    if '=' in line:\n",
    "        split_=line.split('=')\n",
    "        pars = split_[0]\n",
    "        print(pars)\n",
    "        keys = split_[1].strip(' ').split(' ')\n",
    "        keys = keys[1:]\n",
    "        keys = '_'.join(keys)\n",
    "        keys = '_{}_'.format(keys)\n",
    "        print(keys)\n",
    "        "
   ]
  },
  {
   "cell_type": "code",
   "execution_count": 7,
   "metadata": {},
   "outputs": [],
   "source": [
    "def extract_pars_keys(param_string):\n",
    "    lines = param_string.split('\\n')\n",
    "    modname = lines[0].split(' ')[0]\n",
    "    key_template = '_{}_'\n",
    "    par_keys = {}\n",
    "    key_pars = {}\n",
    "    for line in lines:\n",
    "        if '=' in line:\n",
    "            \n",
    "            par, key = line.split('=')\n",
    "            \n",
    "            key = key.strip(' ').split(' ')\n",
    "            key = '_'.join(key[1:])\n",
    "            key = key_template.format(key)\n",
    "            \n",
    "            par_keys[par.strip(' ')] = key\n",
    "            key_pars[key] = par.strip(' ')\n",
    "    return modname, par_keys, key_pars\n"
   ]
  },
  {
   "cell_type": "code",
   "execution_count": 15,
   "metadata": {},
   "outputs": [
    {
     "data": {
      "text/plain": [
       "('mbl_hop_ex',\n",
       " {'T': '_ih_2_', 'J1': '_dg_0_'},\n",
       " {'_ih_2_': 'T', '_dg_0_': 'J1'})"
      ]
     },
     "execution_count": 15,
     "metadata": {},
     "output_type": "execute_result"
    }
   ],
   "source": [
    "extract_pars_keys(ex_string)"
   ]
  },
  {
   "cell_type": "code",
   "execution_count": 10,
   "metadata": {},
   "outputs": [],
   "source": [
    "mod_dict = {\n",
    "    \"hopping\":\n",
    "\n",
    "    \"\"\"mbl_hop_ex           kin      S_z\n",
    "    Parameters\n",
    "\n",
    "    T= set_t ih 2\n",
    "    J1= set_j1 dg 0\n",
    "    \"\"\",\n",
    "    \"rd_spins\":\n",
    "\n",
    "    \"\"\"rd_field_ex?         S^+S^-  null\n",
    "    Parameters\n",
    "\n",
    "    J2= set_j2 ff 0\n",
    "    W= set_w dg 0\n",
    "    \"\"\",\n",
    "\n",
    "    \"rd_holes\":\n",
    "\n",
    "    \"\"\"rd_holes_ex?         hole_dis         diag\n",
    "    Parameters\n",
    "\n",
    "    H= set_h dg 1\n",
    "    \"\"\",\n",
    "    \"hole_sym_break\":\n",
    "\n",
    "    \"\"\"sybr_h_ex         hole_sym_break\n",
    "    Parameters\n",
    "\n",
    "    HSYM= set_hsym dg 2\n",
    "    \"\"\",\n",
    "\n",
    "    \"spin_sym_break\":\n",
    "\n",
    "    \"\"\"sybr_s_ex         spin_sym_break\n",
    "    Parameters\n",
    "\n",
    "    WSYM= set_wsym dg 3\n",
    "    \"\"\",\n",
    "\n",
    "    \"staggered_h\":\n",
    "\n",
    "    \"\"\"e_field_ex!                  kin_phase       h_staggered\n",
    "    Parameters\n",
    "\n",
    "\n",
    "    WSYM= set_wsym dg 0\n",
    "\n",
    "    \"\"\",\n",
    "\n",
    "    \"efield\":\n",
    "\n",
    "    \"\"\"e_field_ex!                  kin_phase       h_staggered\n",
    "    Parameters\n",
    "\n",
    "    T= set_t ih 2\n",
    "\n",
    "    H= set_wsym dg 0\n",
    "\n",
    "    \"\"\",\n",
    "\n",
    "    \"hcb_nn\":  # hard-core bosons, nearest-neighbour hopping\n",
    "\n",
    "    \"\"\"hcb_hop_nn_ex    hcb_nn_hop      hcb_nn_int\n",
    "    Parameters\n",
    "\n",
    "    T= set_t ih 2\n",
    "    J1= set_j1 dg 1\n",
    "\n",
    "\n",
    "    \"\"\",\n",
    "    \"hcb_snn\":  # hard-core bosons, second-nearest neighbour hopping\n",
    "\n",
    "    \"\"\"hcb_hop_snn_ex    hcb_snn_hop      hcb_snn_int\n",
    "    Parameters\n",
    "\n",
    "    T2= set_t2 ih 2\n",
    "    J2= set_j2 dg 2\n",
    "\n",
    "\n",
    "    \"\"\",\n",
    "    \"hcb_rnd\":  # hard-core bosons, random disorder\n",
    "\n",
    "    \"\"\"hcb_rd_field_ex? hcb_rdn_spin_field\n",
    "    Parameters\n",
    "\n",
    "    W= set_w dg 4\n",
    "\n",
    "    \"\"\"\n",
    "\n",
    "}"
   ]
  },
  {
   "cell_type": "code",
   "execution_count": 18,
   "metadata": {},
   "outputs": [
    {
     "name": "stdout",
     "output_type": "stream",
     "text": [
      "ajajaja\n",
      "T\n",
      "V1\n",
      "T\n",
      "V1\n",
      "T2\n",
      "V2\n",
      "T2\n",
      "V2\n"
     ]
    }
   ],
   "source": [
    "val_cases = {}\n",
    "par_dict = {}\n",
    "inv_val_cases = {}\n",
    "for key in mod_dict:\n",
    "    name, dict_,inv_dict_ = extract_pars_keys(mod_dict[key])\n",
    "    \n",
    "    name = name.strip('?!')\n",
    "    \n",
    "    if 'staggered' in key:\n",
    "        if any('WSYM' in elt for elt in dict_.keys()):\n",
    "            print('ajajaja')\n",
    "            dict_['H_STAGG'] = dict_.pop('WSYM')        \n",
    "    \n",
    "    if 'hcb' in name:\n",
    "        if any('W' in elt for elt in dict_.keys()):\n",
    "            dict_['W_hcb'] = dict_.pop('W')\n",
    "        if any('J' in elt for elt in dict_.keys()):\n",
    "            for key in dict_.keys():\n",
    "                new_key = key.replace('J', 'V')\n",
    "                print(new_key)\n",
    "                dict_[new_key] = dict_.pop(key)\n",
    "    par_dict.update(dict_)\n",
    "    val_cases[name] = set(dict_.keys())\n",
    "    inv_val_cases[name] = set(inv_dict_.keys())\n",
    " "
   ]
  },
  {
   "cell_type": "code",
   "execution_count": 17,
   "metadata": {},
   "outputs": [
    {
     "data": {
      "text/plain": [
       "{'mbl_hop_ex': {'J1', 'T'},\n",
       " 'rd_field_ex': {'J2', 'W'},\n",
       " 'rd_holes_ex': {'H'},\n",
       " 'sybr_h_ex': {'HSYM'},\n",
       " 'sybr_s_ex': {'WSYM'},\n",
       " 'e_field_ex': {'H', 'T'},\n",
       " 'hcb_hop_nn_ex': {'T', 'V1'},\n",
       " 'hcb_hop_snn_ex': {'T2', 'V2'},\n",
       " 'hcb_rd_field_ex': {'W_hcb'}}"
      ]
     },
     "execution_count": 17,
     "metadata": {},
     "output_type": "execute_result"
    }
   ],
   "source": [
    "val_cases"
   ]
  },
  {
   "cell_type": "code",
   "execution_count": 19,
   "metadata": {},
   "outputs": [
    {
     "data": {
      "text/plain": [
       "{'mbl_hop_ex': {'_dg_0_', '_ih_2_'},\n",
       " 'rd_field_ex': {'_dg_0_', '_ff_0_'},\n",
       " 'rd_holes_ex': {'_dg_1_'},\n",
       " 'sybr_h_ex': {'_dg_2_'},\n",
       " 'sybr_s_ex': {'_dg_3_'},\n",
       " 'e_field_ex': {'_dg_0_', '_ih_2_'},\n",
       " 'hcb_hop_nn_ex': {'_dg_1_', '_ih_2_'},\n",
       " 'hcb_hop_snn_ex': {'_dg_2_', '_ih_2_'},\n",
       " 'hcb_rd_field_ex': {'_dg_4_'}}"
      ]
     },
     "execution_count": 19,
     "metadata": {},
     "output_type": "execute_result"
    }
   ],
   "source": [
    "inv_val_cases"
   ]
  },
  {
   "cell_type": "code",
   "execution_count": 58,
   "metadata": {},
   "outputs": [
    {
     "data": {
      "text/plain": [
       "{'T': '_ih_2_',\n",
       " 'J1': '_dg_0_',\n",
       " 'J2': '_ff_0_',\n",
       " 'W': '_dg_0_',\n",
       " 'H': '_dg_0_',\n",
       " 'HSYM': '_dg_2_',\n",
       " 'WSYM': '_dg_3_',\n",
       " 'H_STAGG': '_dg_0_',\n",
       " 'V1': '_dg_1_',\n",
       " 'T2': '_ih_2_',\n",
       " 'V2': '_dg_2_',\n",
       " 'W_hcb': '_dg_4_'}"
      ]
     },
     "execution_count": 58,
     "metadata": {},
     "output_type": "execute_result"
    }
   ],
   "source": [
    "par_dict"
   ]
  },
  {
   "cell_type": "code",
   "execution_count": 3,
   "metadata": {},
   "outputs": [
    {
     "data": {
      "text/plain": [
       "True"
      ]
     },
     "execution_count": 3,
     "metadata": {},
     "output_type": "execute_result"
    }
   ],
   "source": [
    "set([1,2]) == set([2,1])"
   ]
  },
  {
   "cell_type": "code",
   "execution_count": null,
   "metadata": {},
   "outputs": [],
   "source": []
  }
 ],
 "metadata": {
  "kernelspec": {
   "display_name": "Python 3",
   "language": "python",
   "name": "python3"
  },
  "language_info": {
   "codemirror_mode": {
    "name": "ipython",
    "version": 3
   },
   "file_extension": ".py",
   "mimetype": "text/x-python",
   "name": "python",
   "nbconvert_exporter": "python",
   "pygments_lexer": "ipython3",
   "version": "3.7.2"
  }
 },
 "nbformat": 4,
 "nbformat_minor": 2
}
