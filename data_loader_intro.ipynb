{
 "cells": [
  {
   "cell_type": "code",
   "execution_count": 1,
   "metadata": {},
   "outputs": [],
   "source": [
    "from data_loader import *\n"
   ]
  },
  {
   "cell_type": "code",
   "execution_count": 2,
   "metadata": {},
   "outputs": [],
   "source": [
    "import data_loader.defaults"
   ]
  },
  {
   "cell_type": "code",
   "execution_count": 3,
   "metadata": {},
   "outputs": [],
   "source": [
    "from data_loader.defaults.mbl_fortran import mbl_misc_defs"
   ]
  },
  {
   "cell_type": "code",
   "execution_count": 4,
   "metadata": {},
   "outputs": [],
   "source": [
    "from data_loader.defaults.mbl_fortran import mbl_loader"
   ]
  },
  {
   "cell_type": "code",
   "execution_count": 20,
   "metadata": {},
   "outputs": [],
   "source": [
    "storage = '/Volumes/jan-scratch'\n",
    "data_path = 'MBLexact/Results/no_doping_XXX_check_ergodicity_snn_spin_dis_new_ordering/Data/'\n",
    "modules = ['hcb_hop_nn_ex', 'hcb_hop_snn_ex', 'hcb_rd_field_ex']\n",
    "mbl_data = mbl_loader.Mbl_Loader(storage, data_path, modules )"
   ]
  },
  {
   "cell_type": "code",
   "execution_count": 29,
   "metadata": {},
   "outputs": [
    {
     "name": "stdout",
     "output_type": "stream",
     "text": [
      "-1.00000d0_ih_2_+1.10000d0_dg_1_\n",
      "-1.00000d0_ih_2_+1.10000d0_dg_2_\n",
      "+5.00000d0_dg_4_\n",
      "/Volumes/jan-scratch/MBLexact/Results/no_doping_XXX_check_ergodicity_snn_spin_dis_new_ordering/Data/spectral_stats/hcb_hop_nn_exhcb_hop_snn_exhcb_rd_field_ex/D1SS0012_Ne006F_NU000/Mod_-1.00000d0_ih_2_+1.10000d0_dg_2_Mod_+5.00000d0_dg_4_Mod_-1.00000d0_ih_2_+1.10000d0_dg_1_tof_0000\n"
     ]
    }
   ],
   "source": [
    "\n",
    "syspar = {'size': 12, 'dim': 1, 'base': 'F', 'ne': 6, 'nu': 0}\n",
    "modpar = {'T2': -1.0, 'V2': 1.1, 'W_hcb': 5.0, 'T': -1.0, 'V1': 1.1}\n",
    "sys_str = mbl_data._system_dict_to_str(syspar)\n",
    "mod_str = mbl_data.mod_str\n",
    "path = mbl_data._get_folder('spectral_stats', mod_str,sys_str)\n",
    "datatype = 'spectral_stats'\n",
    "filetype = 'spectral_stats_y_n_0.20'\n",
    "data_path = mbl_data.load(datatype, filetype, syspar, modpar)"
   ]
  },
  {
   "cell_type": "code",
   "execution_count": 32,
   "metadata": {},
   "outputs": [
    {
     "data": {
      "text/plain": [
       "{'nsamples0': 1000,\n",
       " 'unfolding_performed': False,\n",
       " 'individual_misc': True,\n",
       " 'ham_tr_sq0': 39.92202909331415,\n",
       " 'sq_ham_tr0': 0.3600000000000001,\n",
       " 'gamma0': 6.264289612943292,\n",
       " 'nener': 181,\n",
       " 'spectral_width': [0.4, 0.6],\n",
       " 'merged_unfolding': False,\n",
       " 'filter_type': 'identity',\n",
       " 'n': 10,\n",
       " 'mean_ener0': -0.6,\n",
       " 'eta': 0.19999999999999996,\n",
       " 'nener0': 924,\n",
       " 'dims_eff': 181.0,\n",
       " 'discarded_unfolding': 4,\n",
       " 'normal_uncon': 32761.0,\n",
       " 'normal_con': 32761.0,\n",
       " 'correct_slope': True,\n",
       " 'nsamples': 1000}"
      ]
     },
     "execution_count": 32,
     "metadata": {},
     "output_type": "execute_result"
    }
   ],
   "source": [
    "data_path[0]['misc']"
   ]
  },
  {
   "cell_type": "code",
   "execution_count": 25,
   "metadata": {},
   "outputs": [
    {
     "data": {
      "text/plain": [
       "['spectral_stats_y_y_0.90_Mod_-1.00000d0_ih_2_+1.10000d0_dg_2_Mod_+5.00000d0_dg_4_Mod_-1.00000d0_ih_2_+1.10000d0_dg_1_tof_0000.hdf5',\n",
       " 'spectral_stats_y_y_0.20_Mod_-1.00000d0_ih_2_+1.10000d0_dg_2_Mod_+5.00000d0_dg_4_Mod_-1.00000d0_ih_2_+1.10000d0_dg_1_tof_0000.hdf5',\n",
       " 'spectral_stats_y_y_1.00_Mod_-1.00000d0_ih_2_+1.10000d0_dg_2_Mod_+5.00000d0_dg_4_Mod_-1.00000d0_ih_2_+1.10000d0_dg_1_tof_0000.hdf5',\n",
       " 'spectral_stats_y_y_0.10_Mod_-1.00000d0_ih_2_+1.10000d0_dg_2_Mod_+5.00000d0_dg_4_Mod_-1.00000d0_ih_2_+1.10000d0_dg_1_tof_0000.hdf5',\n",
       " 'spectral_stats_y_n_0.60_Mod_-1.00000d0_ih_2_+1.10000d0_dg_2_Mod_+5.00000d0_dg_4_Mod_-1.00000d0_ih_2_+1.10000d0_dg_1_tof_0000.hdf5',\n",
       " 'spectral_stats_y_y_0.40_Mod_-1.00000d0_ih_2_+1.10000d0_dg_2_Mod_+5.00000d0_dg_4_Mod_-1.00000d0_ih_2_+1.10000d0_dg_1_tof_0000.hdf5',\n",
       " 'spectral_stats_y_n_0.80_Mod_-1.00000d0_ih_2_+1.10000d0_dg_2_Mod_+5.00000d0_dg_4_Mod_-1.00000d0_ih_2_+1.10000d0_dg_1_tof_0000.hdf5',\n",
       " 'spectral_stats_y_n_0.40_Mod_-1.00000d0_ih_2_+1.10000d0_dg_2_Mod_+5.00000d0_dg_4_Mod_-1.00000d0_ih_2_+1.10000d0_dg_1_tof_0000.hdf5',\n",
       " 'spectral_stats_y_y_0.80_Mod_-1.00000d0_ih_2_+1.10000d0_dg_2_Mod_+5.00000d0_dg_4_Mod_-1.00000d0_ih_2_+1.10000d0_dg_1_tof_0000.hdf5',\n",
       " 'spectral_stats_y_n_0.10_Mod_-1.00000d0_ih_2_+1.10000d0_dg_2_Mod_+5.00000d0_dg_4_Mod_-1.00000d0_ih_2_+1.10000d0_dg_1_tof_0000.hdf5',\n",
       " 'spectral_stats_y_y_0.60_Mod_-1.00000d0_ih_2_+1.10000d0_dg_2_Mod_+5.00000d0_dg_4_Mod_-1.00000d0_ih_2_+1.10000d0_dg_1_tof_0000.hdf5',\n",
       " 'spectral_stats_y_n_0.90_Mod_-1.00000d0_ih_2_+1.10000d0_dg_2_Mod_+5.00000d0_dg_4_Mod_-1.00000d0_ih_2_+1.10000d0_dg_1_tof_0000.hdf5',\n",
       " 'spectral_stats_y_n_0.20_Mod_-1.00000d0_ih_2_+1.10000d0_dg_2_Mod_+5.00000d0_dg_4_Mod_-1.00000d0_ih_2_+1.10000d0_dg_1_tof_0000.hdf5',\n",
       " 'spectral_stats_y_n_1.00_Mod_-1.00000d0_ih_2_+1.10000d0_dg_2_Mod_+5.00000d0_dg_4_Mod_-1.00000d0_ih_2_+1.10000d0_dg_1_tof_0000.hdf5']"
      ]
     },
     "execution_count": 25,
     "metadata": {},
     "output_type": "execute_result"
    }
   ],
   "source": [
    "import os\n",
    "os.listdir('/Volumes/jan-scratch/MBLexact/Results/no_doping_XXX_check_ergodicity_snn_spin_dis_new_ordering/Data/spectral_stats/hcb_hop_nn_exhcb_hop_snn_exhcb_rd_field_ex/D1SS0012_Ne006F_NU000/Mod_-1.00000d0_ih_2_+1.10000d0_dg_2_Mod_+5.00000d0_dg_4_Mod_-1.00000d0_ih_2_+1.10000d0_dg_1_tof_0000')"
   ]
  },
  {
   "cell_type": "code",
   "execution_count": 33,
   "metadata": {},
   "outputs": [
    {
     "data": {
      "text/plain": [
       "{'hcb_hop_nn_ex': '+1.00000d0_ih_2__+1.10000d0_dg_1_',\n",
       " 'hcb_hop_snn_ex': '+1.00000d0_ih_2__+1.10000d0_dg_2_',\n",
       " 'hcb_rd_field_ex': '+5.00000d0_dg_4_'}"
      ]
     },
     "execution_count": 33,
     "metadata": {},
     "output_type": "execute_result"
    }
   ],
   "source": [
    "cases"
   ]
  },
  {
   "cell_type": "code",
   "execution_count": 11,
   "metadata": {},
   "outputs": [
    {
     "name": "stdout",
     "output_type": "stream",
     "text": [
      "/Volumes/jan-scratch/MBLexact/Results/no_doping_XXX_check_ergodicity_snn_spin_dis_new_ordering/Data/\n"
     ]
    }
   ],
   "source": [
    "data_path, check_exist = mbl_data._get_folder(); print(data_path)"
   ]
  },
  {
   "cell_type": "code",
   "execution_count": 12,
   "metadata": {},
   "outputs": [],
   "source": [
    "import os\n",
    "cwd = os.getcwd()\n",
    "os.chdir(data_path)\n",
    "os.chdir(cwd)"
   ]
  },
  {
   "cell_type": "code",
   "execution_count": 24,
   "metadata": {},
   "outputs": [],
   "source": [
    "modfile = 'Mod_-1.00000d0_ih_2_+1.10000d0_dg_2_Mod_+5.00000d0_dg_4_Mod_-1.00000d0_ih_2_+1.10000d0_dg_1_tof_0000'"
   ]
  },
  {
   "cell_type": "code",
   "execution_count": 27,
   "metadata": {},
   "outputs": [
    {
     "data": {
      "text/plain": [
       "{'T2': 1.0, 'V2': 1.1, 'W_hcb': 5.0, 'T': 1.0, 'V1': 1.1}"
      ]
     },
     "execution_count": 27,
     "metadata": {},
     "output_type": "execute_result"
    }
   ],
   "source": [
    "modpar = mbl_data.get_modpar_values(modfile); modpar"
   ]
  },
  {
   "cell_type": "code",
   "execution_count": 15,
   "metadata": {},
   "outputs": [],
   "source": [
    "modpar = mbl_data.default_modpars"
   ]
  },
  {
   "cell_type": "code",
   "execution_count": 18,
   "metadata": {},
   "outputs": [
    {
     "name": "stdout",
     "output_type": "stream",
     "text": [
      "+0.00000d0_ih_2__+0.00000d0_dg_1_\n",
      "+0.00000d0_ih_2__+0.00000d0_dg_2_\n",
      "+0.00000d0_dg_4_\n"
     ]
    },
    {
     "data": {
      "text/plain": [
       "{'hcb_hop_nn_ex': '+0.00000d0_ih_2__+0.00000d0_dg_1_',\n",
       " 'hcb_hop_snn_ex': '+0.00000d0_ih_2__+0.00000d0_dg_2_',\n",
       " 'hcb_rd_field_ex': '+0.00000d0_dg_4_'}"
      ]
     },
     "execution_count": 18,
     "metadata": {},
     "output_type": "execute_result"
    }
   ],
   "source": [
    "mbl_data._cases(modpar)"
   ]
  },
  {
   "cell_type": "code",
   "execution_count": 2,
   "metadata": {},
   "outputs": [
    {
     "data": {
      "text/plain": [
       "['spectral_statistics_tools',\n",
       " 'Entanglement_entropy_quadratic_models',\n",
       " 'data_loader_tools']"
      ]
     },
     "execution_count": 2,
     "metadata": {},
     "output_type": "execute_result"
    }
   ],
   "source": [
    "import os\n",
    "os.listdir('..')"
   ]
  },
  {
   "cell_type": "code",
   "execution_count": null,
   "metadata": {},
   "outputs": [],
   "source": []
  }
 ],
 "metadata": {
  "kernelspec": {
   "display_name": "Python 3",
   "language": "python",
   "name": "python3"
  },
  "language_info": {
   "codemirror_mode": {
    "name": "ipython",
    "version": 3
   },
   "file_extension": ".py",
   "mimetype": "text/x-python",
   "name": "python",
   "nbconvert_exporter": "python",
   "pygments_lexer": "ipython3",
   "version": "3.7.1"
  }
 },
 "nbformat": 4,
 "nbformat_minor": 2
}
